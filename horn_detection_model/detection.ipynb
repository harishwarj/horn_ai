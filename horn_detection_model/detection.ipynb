{
 "cells": [
  {
   "cell_type": "code",
   "execution_count": 1,
   "metadata": {},
   "outputs": [
    {
     "name": "stderr",
     "output_type": "stream",
     "text": [
      "c:\\Users\\Harishwar\\AppData\\Local\\Programs\\Python\\Python311\\Lib\\site-packages\\huggingface_hub\\utils\\_runtime.py:185: UserWarning: Pydantic is installed but cannot be imported. Please check your installation. `huggingface_hub` will default to not using Pydantic. Error message: '{e}'\n",
      "  warnings.warn(\n"
     ]
    },
    {
     "name": "stdout",
     "output_type": "stream",
     "text": [
      "\n",
      "0: 384x640 2 persons, 1 car, 4 motorcycles, 2 buss, 72.8ms\n",
      "Speed: 5.0ms preprocess, 72.8ms inference, 65.8ms postprocess per image at shape (1, 3, 384, 640)\n",
      "Displaying frequency bar with intensity: 88.97%\n"
     ]
    }
   ],
   "source": [
    "import cv2\n",
    "import numpy as np\n",
    "from ultralytics import YOLO\n",
    "\n",
    "def preprocess_image(frame):\n",
    "    image = cv2.resize(frame, (640, 640))  # YOLOv8 uses 640x640 by default\n",
    "    image = image / 255.0\n",
    "    image = np.expand_dims(image, axis=0)  # Add batch dimension\n",
    "    return image\n",
    "\n",
    "def calculate_proximity(x, y, w, h):\n",
    "    center_x, center_y = x + w / 2, y + h / 2\n",
    "    image_center_x, image_center_y = 640 / 2, 640 / 2\n",
    "    distance = ((center_x - image_center_x) ** 2 + (center_y - image_center_y) ** 2) ** 0.5\n",
    "    proximity = max(0, 1 - distance / (640 / 2))\n",
    "    return proximity * 100\n",
    "\n",
    "def display_frequency_bar(frame, intensity):\n",
    "    print(f\"Displaying frequency bar with intensity: {intensity:.2f}%\")  # Debugging statement\n",
    "    height, width, _ = frame.shape\n",
    "    bar_width = int(width * (intensity / 100))\n",
    "    cv2.rectangle(frame, (0, height - 50), (bar_width, height), (0, 255, 0), -1)\n",
    "    cv2.putText(frame, f'Horn Intensity: {intensity:.2f}%', (10, height - 60), cv2.FONT_HERSHEY_SIMPLEX, 0.6, (255, 255, 255), 2)\n",
    "\n",
    "def detect_and_control(frame, model):\n",
    "    results = model(frame)  # No need to preprocess here as the model handles it\n",
    "    intensity = 0\n",
    "    for result in results:\n",
    "        for detection in result.boxes:\n",
    "            x1, y1, x2, y2 = map(int, detection.xyxy[0])\n",
    "            w, h = x2 - x1, y2 - y1\n",
    "            proximity = calculate_proximity(x1, y1, w, h)\n",
    "            intensity = max(intensity, proximity)\n",
    "            # Draw bounding box\n",
    "            cv2.rectangle(frame, (x1, y1), (x2, y2), (255, 0, 0), 2)\n",
    "            # Draw label\n",
    "            cls = int(detection.cls)  # Convert tensor to int\n",
    "            conf = float(detection.conf)  # Convert tensor to float\n",
    "            label = f'{cls}: {conf:.2f}'\n",
    "            cv2.putText(frame, label, (x1, y1 - 10), cv2.FONT_HERSHEY_SIMPLEX, 0.5, (255, 0, 0), 2)\n",
    "    display_frequency_bar(frame, intensity)\n",
    "\n",
    "# Load YOLOv8 model\n",
    "model = YOLO('yolov8n.pt')  # Replace with the path to your YOLOv8 model file\n",
    "\n",
    "# Read image from file\n",
    "image_path = \"C:\\\\Users\\\\Harishwar\\\\Desktop\\\\mini\\\\yolov8\\\\Traffic Dataset\\\\images\\\\train\\\\00 (31).jpg\"  # Your image file path\n",
    "frame = cv2.imread(image_path)\n",
    "if frame is None:\n",
    "    print(\"Error: Could not open image file.\")\n",
    "    exit()\n",
    "\n",
    "# Detect and control\n",
    "detect_and_control(frame, model)\n",
    "\n",
    "# Display the result\n",
    "cv2.imshow('Frame', frame)\n",
    "cv2.waitKey(0)  # Wait indefinitely until a key is pressed\n",
    "cv2.destroyAllWindows()\n"
   ]
  },
  {
   "cell_type": "code",
   "execution_count": null,
   "metadata": {},
   "outputs": [],
   "source": []
  }
 ],
 "metadata": {
  "kernelspec": {
   "display_name": "Python 3",
   "language": "python",
   "name": "python3"
  },
  "language_info": {
   "codemirror_mode": {
    "name": "ipython",
    "version": 3
   },
   "file_extension": ".py",
   "mimetype": "text/x-python",
   "name": "python",
   "nbconvert_exporter": "python",
   "pygments_lexer": "ipython3",
   "version": "3.11.4"
  }
 },
 "nbformat": 4,
 "nbformat_minor": 2
}
